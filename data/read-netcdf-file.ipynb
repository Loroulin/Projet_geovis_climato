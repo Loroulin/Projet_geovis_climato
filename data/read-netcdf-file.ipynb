{
 "cells": [
  {
   "cell_type": "markdown",
   "id": "48cad4ae-8932-4e1c-b3ac-4c3cda29ccb6",
   "metadata": {},
   "source": [
    "# Read NetCDF file from MeteoSwiss"
   ]
  },
  {
   "cell_type": "code",
   "execution_count": 39,
   "id": "4a48610d-f2f2-4af9-8a39-b350b458ddbf",
   "metadata": {
    "tags": []
   },
   "outputs": [],
   "source": [
    "import netCDF4 as nc\n",
    "import numpy as np\n",
    "import os\n",
    "import rasterio\n",
    "from datetime import datetime, timedelta\n",
    "from rasterio.transform import from_origin"
   ]
  },
  {
   "cell_type": "code",
   "execution_count": 33,
   "id": "1f10de99-47c0-4dfb-afa9-88d8fa636474",
   "metadata": {},
   "outputs": [],
   "source": [
    "fname = 'CH2018_pr_CLMCOM-CCLM4_MPIESM_EUR44_RCP45_QMgrid_1981-2099.nc'\n",
    "outdir = 'CH2018_pr_CLMCOM-CCLM4_MPIESM_EUR44_RCP45_QMgrid_1981-2099'"
   ]
  },
  {
   "cell_type": "code",
   "execution_count": 21,
   "id": "1053bfc6-c629-4aeb-a881-6b564f4f27d1",
   "metadata": {},
   "outputs": [],
   "source": [
    "ds = nc.Dataset(fname)"
   ]
  },
  {
   "cell_type": "markdown",
   "id": "29f1e9ec-a5ef-4828-ba3d-a09679d90dd4",
   "metadata": {},
   "source": [
    "Get all variable keys:"
   ]
  },
  {
   "cell_type": "code",
   "execution_count": 22,
   "id": "5aa9af80-66ae-41a9-9c81-3a7699cc978f",
   "metadata": {},
   "outputs": [],
   "source": [
    "k = ds.variables.keys()"
   ]
  },
  {
   "cell_type": "code",
   "execution_count": 5,
   "id": "6fe9784d-0935-4c02-b464-a055870118bb",
   "metadata": {},
   "outputs": [
    {
     "data": {
      "text/plain": [
       "dict_keys(['lon', 'lat', 'time', 'pr'])"
      ]
     },
     "execution_count": 5,
     "metadata": {},
     "output_type": "execute_result"
    }
   ],
   "source": [
    "k"
   ]
  },
  {
   "cell_type": "markdown",
   "id": "337976af-9a82-4d60-a085-a77eaa957ea7",
   "metadata": {},
   "source": [
    "Read the information about the time variable:"
   ]
  },
  {
   "cell_type": "code",
   "execution_count": 23,
   "id": "bfd31613-ad06-4728-90b1-8450f1fcf224",
   "metadata": {},
   "outputs": [
    {
     "data": {
      "text/plain": [
       "<class 'netCDF4._netCDF4.Variable'>\n",
       "float64 time(time)\n",
       "    standard_name: time\n",
       "    long_name: time\n",
       "    units: days since 1900-1-1 00:00:00\n",
       "    calendar: standard\n",
       "    axis: T\n",
       "unlimited dimensions: time\n",
       "current shape = (43464,)\n",
       "filling on, default _FillValue of 9.969209968386869e+36 used"
      ]
     },
     "execution_count": 23,
     "metadata": {},
     "output_type": "execute_result"
    }
   ],
   "source": [
    "ds.variables['time']"
   ]
  },
  {
   "cell_type": "code",
   "execution_count": 44,
   "id": "c391d98b-420c-4da0-b74e-fa1fb35e3078",
   "metadata": {},
   "outputs": [
    {
     "data": {
      "text/plain": [
       "masked_array(data=[29585.5, 29586.5, 29587.5, ...,     0. ,     0. ,\n",
       "                       0. ],\n",
       "             mask=False,\n",
       "       fill_value=1e+20)"
      ]
     },
     "execution_count": 44,
     "metadata": {},
     "output_type": "execute_result"
    }
   ],
   "source": [
    "t = ds.variables['time'][:]\n",
    "t"
   ]
  },
  {
   "cell_type": "code",
   "execution_count": 45,
   "id": "ea1adfb6-8f0f-44d6-9b54-f049ff34fbd7",
   "metadata": {},
   "outputs": [
    {
     "data": {
      "text/plain": [
       "(0.0, 34801.5)"
      ]
     },
     "execution_count": 45,
     "metadata": {},
     "output_type": "execute_result"
    }
   ],
   "source": [
    "np.min(t), np.max(t)"
   ]
  },
  {
   "cell_type": "code",
   "execution_count": 46,
   "id": "80625ed1-203a-4a4e-ba77-cc5a15a15553",
   "metadata": {},
   "outputs": [
    {
     "data": {
      "text/plain": [
       "datetime.datetime(1995, 4, 14, 12, 0)"
      ]
     },
     "execution_count": 46,
     "metadata": {},
     "output_type": "execute_result"
    }
   ],
   "source": [
    "dt_max = datetime(1900, 1, 1) + timedelta(days=np.max(t))\n",
    "dt_max"
   ]
  },
  {
   "cell_type": "markdown",
   "id": "2d08df51-6490-4cdd-9132-7134cb3446e1",
   "metadata": {},
   "source": [
    "Maximum date is in 1995! This cannot be correct. All other values seem to be 0.\n",
    "Probably, we just need to increase the day by 1 each time."
   ]
  },
  {
   "cell_type": "code",
   "execution_count": 24,
   "id": "7327117a-7fe4-4d9c-8a34-f0e250686233",
   "metadata": {},
   "outputs": [
    {
     "data": {
      "text/plain": [
       "<class 'netCDF4._netCDF4.Dataset'>\n",
       "root group (NETCDF3_CLASSIC data model, file format NETCDF3):\n",
       "    title: CH2018 bias-corrected and downscaled data\n",
       "    project: CH2018 - New Climate Scenarios for Switzerland (http://www.climate-scenarios.ch)\n",
       "    institution: The CH2018 Consortium (MeteoSwiss, ETH Zurich, C2SM, University of Bern, scnat) and the National Centre for Climate Services NCCS (http://www.nccs.ch)\n",
       "    creator_name: Sven Kotlarski (MeteoSwiss), sven.kotlarski@meteoswiss.ch\n",
       "    contact: klimaszenarien@meteoschweiz.ch\n",
       "    license: https://creativecommons.org/licenses/by/4.0\n",
       "    frequency: day\n",
       "    spatial_scale: regular 2km grid\n",
       "    CORDEX_RCM: CLMCOM-CCLM4\n",
       "    CORDEX_GCM: MPIESM\n",
       "    CORDEX_DOMAIN: EUR44\n",
       "    CORDEX_SCENARIO: RCP45\n",
       "    version: 1.0.0\n",
       "    creation_date: Wed Nov  7 18:07:56 CET 2018\n",
       "    references: [1] CH2018 (2018) CH2018 - Climate Scenarios for Switzerland, Technical Report, National Centre for Climate Services, Zurich,  ISBN: 978-3-9525031-4-0, Chapter 5. [2] Feigenwinter et al. (2018) Technical Report MeteoSwiss No. 270.\n",
       "    citation: CH2018 Project Team (2018): CH2018 - Climate Scenarios for Switzerland. National Centre for Climate Services. doi: 10.18751/Climate/Scenarios/CH2018/1.0\n",
       "    source: CORDEX Coordinated Regional Climate Downscaling Experiment (http://www.cordex.org)\n",
       "    dimensions(sizes): lon(220), lat(101), time(43464)\n",
       "    variables(dimensions): float64 lon(lon), float64 lat(lat), float64 time(time), float32 pr(time, lat, lon)\n",
       "    groups: "
      ]
     },
     "execution_count": 24,
     "metadata": {},
     "output_type": "execute_result"
    }
   ],
   "source": [
    "ds"
   ]
  },
  {
   "cell_type": "code",
   "execution_count": 25,
   "id": "ce138266-8d87-4b47-89f3-8d3b12c705f5",
   "metadata": {},
   "outputs": [],
   "source": [
    "lon = ds.variables['lon'][:]"
   ]
  },
  {
   "cell_type": "code",
   "execution_count": 27,
   "id": "e26665e8-21a8-41ee-9a31-88fd94f112aa",
   "metadata": {},
   "outputs": [
    {
     "data": {
      "text/plain": [
       "0.020833333333333037"
      ]
     },
     "execution_count": 27,
     "metadata": {},
     "output_type": "execute_result"
    }
   ],
   "source": [
    "lon[1] - lon[0]"
   ]
  },
  {
   "cell_type": "code",
   "execution_count": 29,
   "id": "234e71a1-621c-4ae5-bc25-5e3592f8cbd0",
   "metadata": {},
   "outputs": [],
   "source": [
    "lat = ds.variables['lat'][:]"
   ]
  },
  {
   "cell_type": "code",
   "execution_count": 30,
   "id": "45e17ecc-4445-4ac4-9ff1-7ce29e5b823b",
   "metadata": {},
   "outputs": [
    {
     "data": {
      "text/plain": [
       "0.020833333333328596"
      ]
     },
     "execution_count": 30,
     "metadata": {},
     "output_type": "execute_result"
    }
   ],
   "source": [
    "lat[1] - lat[0]"
   ]
  },
  {
   "cell_type": "code",
   "execution_count": 31,
   "id": "2881c9ba-8986-47ff-989d-c43a4b6f6520",
   "metadata": {},
   "outputs": [
    {
     "data": {
      "text/plain": [
       "(101, 220)"
      ]
     },
     "execution_count": 31,
     "metadata": {},
     "output_type": "execute_result"
    }
   ],
   "source": [
    "len(lat), len(lon)"
   ]
  },
  {
   "cell_type": "markdown",
   "id": "c6b311b8-c3f2-47b0-b9b5-bfc82b236d2e",
   "metadata": {},
   "source": [
    "Définir une fonction qui convertit le NetCDF en GeoTIFF:"
   ]
  },
  {
   "cell_type": "code",
   "execution_count": 50,
   "id": "8f6b4146-8f54-4e28-822c-86ff6cc47bb4",
   "metadata": {},
   "outputs": [],
   "source": [
    "def netcdf_to_geotiff(netcdf_path, output_folder):\n",
    "    # Open the NetCDF file\n",
    "    ds = nc.Dataset(netcdf_path)\n",
    "\n",
    "    # Extract variables\n",
    "    lon = ds.variables['lon'][:]\n",
    "    lat = ds.variables['lat'][:]\n",
    "    time = ds.variables['time']\n",
    "    pr = ds.variables['pr']\n",
    "\n",
    "    # Define the base date for the time dimension\n",
    "    base_date = datetime(1900, 1, 1)\n",
    "    \n",
    "    # Determine the resolution of the grid\n",
    "    lon_res = lon[1] - lon[0]\n",
    "    lat_res = lat[1] - lat[0]\n",
    "\n",
    "    # Create transform for GeoTIFF\n",
    "    transform = from_origin(lon.min(), lat.max(), lon_res, lat_res)\n",
    "\n",
    "    # Setup raster meta data\n",
    "    meta = {\n",
    "        'driver': 'GTiff',\n",
    "        'dtype': 'float32',\n",
    "        'nodata': None,\n",
    "        'width': len(lon),\n",
    "        'height': len(lat),\n",
    "        'count': 1,\n",
    "        'crs': rasterio.crs.CRS.from_epsg(4326),  # Assuming data is in WGS84\n",
    "        'transform': transform\n",
    "    }\n",
    "\n",
    "    # Process each time step\n",
    "    for i, t in enumerate(time):\n",
    "        # Convert time to date. It seems the time t is in many cases just 0.\n",
    "        # This is a problem as we don't have track of the time anymore.\n",
    "        # Assume we increase every time by 1 day\n",
    "        if float(t) > 0.:\n",
    "            current_date = base_date + timedelta(days = float(t))\n",
    "        else:\n",
    "            current_date = current_date + timedelta(days = 1.)\n",
    "        date_str = current_date.strftime('%Y-%m-%d')\n",
    "        \n",
    "        # Create a filename for each timestep\n",
    "        filename = f\"{output_folder}/pr_{date_str}.tif\"\n",
    "        \n",
    "        # Read precipitation data for the current time step\n",
    "        precipitation_data = np.flip(pr[i, :, :], axis = 0)\n",
    "        \n",
    "        # Write the data to a GeoTIFF file\n",
    "        with rasterio.open(filename, 'w', **meta) as dst:\n",
    "            dst.write(precipitation_data.filled(), 1)  # Use .filled() to handle masked arrays\n",
    "\n",
    "    print(\"Conversion complete!\")"
   ]
  },
  {
   "cell_type": "markdown",
   "id": "1bf46174-ac6e-4124-8bd3-d3e2776f1e9a",
   "metadata": {},
   "source": [
    "Create a directory for the output data:"
   ]
  },
  {
   "cell_type": "code",
   "execution_count": 35,
   "id": "5e55071b-0700-43db-95d5-29e7fa18716c",
   "metadata": {},
   "outputs": [],
   "source": [
    "os.makedirs(outdir, exist_ok=True)"
   ]
  },
  {
   "cell_type": "code",
   "execution_count": 51,
   "id": "9f21cee8-e9d7-41f9-bf68-f6e9cd581976",
   "metadata": {},
   "outputs": [
    {
     "name": "stdout",
     "output_type": "stream",
     "text": [
      "Conversion complete!\n"
     ]
    }
   ],
   "source": [
    "netcdf_to_geotiff(fname, outdir)"
   ]
  },
  {
   "cell_type": "markdown",
   "id": "b8010981-7cb7-4a9d-ba29-b91604ab1a74",
   "metadata": {},
   "source": [
    "**Values after April 1995 seem to be all 0 !!!**"
   ]
  }
 ],
 "metadata": {
  "kernelspec": {
   "display_name": "Python 3 (ipykernel)",
   "language": "python",
   "name": "python3"
  },
  "language_info": {
   "codemirror_mode": {
    "name": "ipython",
    "version": 3
   },
   "file_extension": ".py",
   "mimetype": "text/x-python",
   "name": "python",
   "nbconvert_exporter": "python",
   "pygments_lexer": "ipython3",
   "version": "3.10.12"
  }
 },
 "nbformat": 4,
 "nbformat_minor": 5
}
